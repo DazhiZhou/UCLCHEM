{
 "cells": [
  {
   "cell_type": "code",
   "execution_count": 159,
   "metadata": {},
   "outputs": [],
   "source": [
    "import numpy as np\n",
    "import pandas as pd"
   ]
  },
  {
   "cell_type": "code",
   "execution_count": 160,
   "metadata": {},
   "outputs": [],
   "source": [
    "model_df=pd.read_csv(\"model_tests.dat\",usecols=[\"Particle\",\"T_gas\"])\n",
    "model_df.head()\n",
    "uclchem=pd.read_csv(\"uclchem_outputs.dat\")\n",
    "uclchem=uclchem.merge(model_df,left_index=True,right_index=True)"
   ]
  },
  {
   "cell_type": "code",
   "execution_count": 161,
   "metadata": {},
   "outputs": [],
   "source": [
    "uclpdr=pd.read_csv(\"fixed_cooling.heat.out\",delimiter=\" \")\n",
    "particle,*junk,pdr_av_points=np.loadtxt(\"fixed_cooling.av.out\",unpack=True,skiprows=1)\n",
    "df=pd.DataFrame({\"Particle\":particle,\"av\":pdr_av_points})\n",
    "df[\"Particle\"]=df[\"Particle\"].astype(int)\n",
    "uclpdr=uclpdr.merge(df,on=\"Particle\")\n"
   ]
  },
  {
   "cell_type": "markdown",
   "metadata": {},
   "source": [
    "# Heating Rates\n"
   ]
  },
  {
   "cell_type": "code",
   "execution_count": 166,
   "metadata": {},
   "outputs": [
    {
     "data": {
      "text/plain": [
       "gasTemp    689.290\n",
       "T_gas      742.401\n",
       "Name: 0, dtype: float64"
      ]
     },
     "execution_count": 166,
     "metadata": {},
     "output_type": "execute_result"
    }
   ],
   "source": [
    "uclchem.loc[0,[\"gasTemp\",\"T_gas\"]]"
   ]
  },
  {
   "cell_type": "code",
   "execution_count": 162,
   "metadata": {},
   "outputs": [
    {
     "data": {
      "text/html": [
       "<div>\n",
       "<style scoped>\n",
       "    .dataframe tbody tr th:only-of-type {\n",
       "        vertical-align: middle;\n",
       "    }\n",
       "\n",
       "    .dataframe tbody tr th {\n",
       "        vertical-align: top;\n",
       "    }\n",
       "\n",
       "    .dataframe thead th {\n",
       "        text-align: right;\n",
       "    }\n",
       "</style>\n",
       "<table border=\"1\" class=\"dataframe\">\n",
       "  <thead>\n",
       "    <tr style=\"text-align: right;\">\n",
       "      <th></th>\n",
       "      <th>index_x</th>\n",
       "      <th>0_x</th>\n",
       "      <th>index_y</th>\n",
       "      <th>0_y</th>\n",
       "    </tr>\n",
       "  </thead>\n",
       "  <tbody>\n",
       "    <tr>\n",
       "      <th>0</th>\n",
       "      <td>Particle</td>\n",
       "      <td>1.000000e+00</td>\n",
       "      <td>Particle</td>\n",
       "      <td>1.000000e+00</td>\n",
       "    </tr>\n",
       "    <tr>\n",
       "      <th>1</th>\n",
       "      <td>Photoelectic</td>\n",
       "      <td>7.752160e-17</td>\n",
       "      <td>Photoelectric</td>\n",
       "      <td>7.964752e-17</td>\n",
       "    </tr>\n",
       "    <tr>\n",
       "      <th>2</th>\n",
       "      <td>H2Form</td>\n",
       "      <td>1.714390e-18</td>\n",
       "      <td>H2Formation</td>\n",
       "      <td>1.821249e-18</td>\n",
       "    </tr>\n",
       "    <tr>\n",
       "      <th>3</th>\n",
       "      <td>H2Pumping</td>\n",
       "      <td>2.063380e-17</td>\n",
       "      <td>FUVPumping</td>\n",
       "      <td>2.175215e-17</td>\n",
       "    </tr>\n",
       "    <tr>\n",
       "      <th>4</th>\n",
       "      <td>H2Photodis</td>\n",
       "      <td>4.572660e-19</td>\n",
       "      <td>Photodissociation</td>\n",
       "      <td>4.857635e-19</td>\n",
       "    </tr>\n",
       "    <tr>\n",
       "      <th>5</th>\n",
       "      <td>CIPhotoion</td>\n",
       "      <td>4.647110e-21</td>\n",
       "      <td>Cionization</td>\n",
       "      <td>4.854564e-21</td>\n",
       "    </tr>\n",
       "    <tr>\n",
       "      <th>6</th>\n",
       "      <td>Cosmic-Rays</td>\n",
       "      <td>2.202790e-28</td>\n",
       "      <td>CRheating</td>\n",
       "      <td>2.322666e-28</td>\n",
       "    </tr>\n",
       "    <tr>\n",
       "      <th>7</th>\n",
       "      <td>Turbulence</td>\n",
       "      <td>2.213590e-23</td>\n",
       "      <td>turbHeating</td>\n",
       "      <td>2.213596e-23</td>\n",
       "    </tr>\n",
       "    <tr>\n",
       "      <th>8</th>\n",
       "      <td>Chemistry</td>\n",
       "      <td>4.209780e-25</td>\n",
       "      <td>Chemheating</td>\n",
       "      <td>3.476329e-25</td>\n",
       "    </tr>\n",
       "    <tr>\n",
       "      <th>9</th>\n",
       "      <td>Gas-Grain</td>\n",
       "      <td>-4.277400e-19</td>\n",
       "      <td>gasGrainColls</td>\n",
       "      <td>-3.839849e-19</td>\n",
       "    </tr>\n",
       "  </tbody>\n",
       "</table>\n",
       "</div>"
      ],
      "text/plain": [
       "        index_x           0_x            index_y           0_y\n",
       "0      Particle  1.000000e+00           Particle  1.000000e+00\n",
       "1  Photoelectic  7.752160e-17      Photoelectric  7.964752e-17\n",
       "2        H2Form  1.714390e-18        H2Formation  1.821249e-18\n",
       "3     H2Pumping  2.063380e-17         FUVPumping  2.175215e-17\n",
       "4    H2Photodis  4.572660e-19  Photodissociation  4.857635e-19\n",
       "5    CIPhotoion  4.647110e-21        Cionization  4.854564e-21\n",
       "6   Cosmic-Rays  2.202790e-28          CRheating  2.322666e-28\n",
       "7    Turbulence  2.213590e-23        turbHeating  2.213596e-23\n",
       "8     Chemistry  4.209780e-25        Chemheating  3.476329e-25\n",
       "9     Gas-Grain -4.277400e-19      gasGrainColls -3.839849e-19"
      ]
     },
     "execution_count": 162,
     "metadata": {},
     "output_type": "execute_result"
    }
   ],
   "source": [
    "chem_heats=[\"Particle\",\"Photoelectric\",\"H2Formation\",\"FUVPumping\",\"Photodissociation\",\"Cionization\",\"CRheating\",\"turbHeating\",\"Chemheating\",\"gasGrainColls\"]\n",
    "pdr_heats=[\"Particle\",\"Photoelectic\",\"H2Form\",\"H2Pumping\",\"H2Photodis\",\"CIPhotoion\",\"Cosmic-Rays\",\"Turbulence\",\"Chemistry\",\"Gas-Grain\"]\n",
    "\n",
    "uclpdr.loc[0,pdr_heats].reset_index().merge(\n",
    "    uclchem.loc[0,chem_heats].reset_index(),left_index=True,right_index=True)"
   ]
  },
  {
   "cell_type": "markdown",
   "metadata": {},
   "source": [
    "# Abundances"
   ]
  },
  {
   "cell_type": "code",
   "execution_count": 167,
   "metadata": {},
   "outputs": [],
   "source": [
    "pdr_abund=pd.read_csv(\"fixed_cooling.abun.out\",delimiter=\" \")"
   ]
  },
  {
   "cell_type": "code",
   "execution_count": 168,
   "metadata": {},
   "outputs": [
    {
     "data": {
      "text/plain": [
       "X(H)     9.999980e-01\n",
       "X(H2)    4.347740e-07\n",
       "X(H+)    1.282020e-06\n",
       "X(C+)    9.999970e-05\n",
       "X(C)     3.057390e-10\n",
       "X(e-)    1.062830e-04\n",
       "Name: 0, dtype: float64"
      ]
     },
     "execution_count": 168,
     "metadata": {},
     "output_type": "execute_result"
    }
   ],
   "source": [
    "pdr_abund.loc[0,[\"X(H)\",\"X(H2)\",\"X(H+)\",\"X(C+)\",\"X(C)\",\"X(e-)\"]]"
   ]
  },
  {
   "cell_type": "code",
   "execution_count": 169,
   "metadata": {
    "scrolled": true
   },
   "outputs": [
    {
     "data": {
      "text/plain": [
       "H     9.999980e-01\n",
       "H2    4.591680e-07\n",
       "H+    1.215270e-06\n",
       "C+    9.999970e-05\n",
       "C     3.175200e-10\n",
       "E-    1.062170e-04\n",
       "Name: 0, dtype: float64"
      ]
     },
     "execution_count": 169,
     "metadata": {},
     "output_type": "execute_result"
    }
   ],
   "source": [
    "uclchem.loc[0,[\"H\",\"H2\",\"H+\",\"C+\",\"C\",\"E-\"]]"
   ]
  },
  {
   "cell_type": "code",
   "execution_count": null,
   "metadata": {},
   "outputs": [],
   "source": []
  },
  {
   "cell_type": "code",
   "execution_count": null,
   "metadata": {},
   "outputs": [],
   "source": []
  }
 ],
 "metadata": {
  "kernelspec": {
   "display_name": "Python 3",
   "language": "python",
   "name": "python3"
  },
  "language_info": {
   "codemirror_mode": {
    "name": "ipython",
    "version": 3
   },
   "file_extension": ".py",
   "mimetype": "text/x-python",
   "name": "python",
   "nbconvert_exporter": "python",
   "pygments_lexer": "ipython3",
   "version": "3.6.9"
  }
 },
 "nbformat": 4,
 "nbformat_minor": 2
}
