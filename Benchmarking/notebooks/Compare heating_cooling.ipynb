{
 "cells": [
  {
   "cell_type": "code",
   "execution_count": 1,
   "metadata": {},
   "outputs": [],
   "source": [
    "import pandas as pd"
   ]
  },
  {
   "cell_type": "code",
   "execution_count": 2,
   "metadata": {},
   "outputs": [],
   "source": [
    "uclpdr=pd.read_csv('../uclpdr/1e5_1e5.5_output.csv')"
   ]
  },
  {
   "cell_type": "code",
   "execution_count": 21,
   "metadata": {},
   "outputs": [],
   "source": [
    "uclchem_cool=pd.read_csv(\"../../test/cooling/1.dat\")\n",
    "uclchem_heat=pd.read_csv(\"../../test/heating/1.dat\")"
   ]
  },
  {
   "cell_type": "markdown",
   "metadata": {},
   "source": [
    "### Cooling"
   ]
  },
  {
   "cell_type": "code",
   "execution_count": 22,
   "metadata": {},
   "outputs": [
    {
     "data": {
      "text/plain": [
       "Ly$\\alpha$_cool    4.328410e-49\n",
       "CII_cool           6.008020e-19\n",
       "OI_cool            7.210570e-17\n",
       "CI_cool            6.099220e-26\n",
       "CO_cool            5.821790e-33\n",
       "p-H$_{2}$_cool     1.203790e-22\n",
       "o-H$_{2}$_cool     3.932930e-22\n",
       "Total_cool         7.270700e-17\n",
       "Name: 0, dtype: float64"
      ]
     },
     "execution_count": 22,
     "metadata": {},
     "output_type": "execute_result"
    }
   ],
   "source": [
    "uclpdr[[x for x in uclpdr.columns if \"cool\" in x]].loc[0]"
   ]
  },
  {
   "cell_type": "code",
   "execution_count": 23,
   "metadata": {},
   "outputs": [
    {
     "data": {
      "text/plain": [
       " Lyman-alpha    3.091920e-48\n",
       "C+              1.561970e-18\n",
       "O               1.105290e-16\n",
       "C               1.184360e-24\n",
       "CO              1.268270e-32\n",
       "p-H2            1.206330e-22\n",
       "o-H2            3.941270e-22\n",
       "SI+             1.877040e-19\n",
       "S               3.159120e-22\n",
       "Name: 0, dtype: float64"
      ]
     },
     "execution_count": 23,
     "metadata": {},
     "output_type": "execute_result"
    }
   ],
   "source": [
    "uclchem_cool.loc[0]"
   ]
  },
  {
   "cell_type": "markdown",
   "metadata": {},
   "source": [
    "### Heating"
   ]
  },
  {
   "cell_type": "code",
   "execution_count": 24,
   "metadata": {},
   "outputs": [
    {
     "data": {
      "text/plain": [
       "DustPE_heat              6.117660e-17\n",
       "H$_{2}$Form_heat         9.185730e-19\n",
       "H$_{2}$Pumping_heat      1.146610e-17\n",
       "H$_{2}$Photodis_heat     2.450420e-19\n",
       "CIPhotoion_heat          3.237150e-21\n",
       "Cosmic$^{-}$Rays_heat    1.180440e-28\n",
       "Turbulence_heat          2.213590e-23\n",
       "Chemistry_heat           2.150760e-24\n",
       "Gas$^{-}$Grain_heat     -1.044570e-18\n",
       "Coulomb_heat             0.000000e+00\n",
       "Total_heat               7.276500e-17\n",
       "Name: 0, dtype: float64"
      ]
     },
     "execution_count": 24,
     "metadata": {},
     "output_type": "execute_result"
    }
   ],
   "source": [
    "uclpdr[[x for x in uclpdr.columns if \"heat\" in x]].loc[0]"
   ]
  },
  {
   "cell_type": "code",
   "execution_count": 25,
   "metadata": {},
   "outputs": [
    {
     "data": {
      "text/plain": [
       " Photoelectric       2.679150e-16\n",
       "H2Formation          9.194880e-19\n",
       "FUVPumping           1.149250e-17\n",
       "Photodissociation    2.456120e-19\n",
       "Cionization          4.912810e-20\n",
       "CRheating            1.181300e-28\n",
       "turbHeating          2.213600e-23\n",
       "Chemheating          5.983360e-22\n",
       "gasGrainColls       -1.045060e-18\n",
       "Name: 0, dtype: float64"
      ]
     },
     "execution_count": 25,
     "metadata": {},
     "output_type": "execute_result"
    }
   ],
   "source": [
    "uclchem_heat.loc[0]"
   ]
  },
  {
   "cell_type": "code",
   "execution_count": null,
   "metadata": {},
   "outputs": [],
   "source": []
  }
 ],
 "metadata": {
  "kernelspec": {
   "display_name": "Python 3",
   "language": "python",
   "name": "python3"
  },
  "language_info": {
   "codemirror_mode": {
    "name": "ipython",
    "version": 3
   },
   "file_extension": ".py",
   "mimetype": "text/x-python",
   "name": "python",
   "nbconvert_exporter": "python",
   "pygments_lexer": "ipython3",
   "version": "3.6.9"
  }
 },
 "nbformat": 4,
 "nbformat_minor": 2
}
