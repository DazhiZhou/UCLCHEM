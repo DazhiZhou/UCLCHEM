{
 "cells": [
  {
   "cell_type": "markdown",
   "metadata": {},
   "source": [
    "# Line Cooling\n",
    "The main difference between UCLPDR and UCLCHEM is line cooling. This notebook compares level populations and opacities written out by the code to help identify differences. Outputs are standard for UCLPDR so can just be loaded, UCLCHEM outputs are generated using single_wrap_test.py to run the model.\n",
    "\n",
    "I'm running a UCLCHEM with fixed heating rates and temperature that match the UCLPDR model. It's labelled Benchmarking/fixed_heating but is really just a copy of the 10_1e3 model created so I can run grids without overwriting. I'm writing tests to Benchmarking/fixed_heating and grids to Benchmarking/fixed_heating/Equilibrium"
   ]
  },
  {
   "cell_type": "code",
   "execution_count": 127,
   "metadata": {},
   "outputs": [],
   "source": [
    "import pandas as pd\n",
    "import matplotlib.pyplot as plt\n",
    "import seaborn as sns\n",
    "import numpy as np\n",
    "pdr_path=\"../fixed_heating/Equilibrium/\"\n",
    "chem_path=\"../fixed_heating/\""
   ]
  },
  {
   "cell_type": "code",
   "execution_count": 128,
   "metadata": {},
   "outputs": [
    {
     "data": {
      "text/plain": [
       "rticle    1.000000e+00\n",
       "H         9.997330e+02\n",
       "H         3.626960e-67\n",
       "C+        8.419800e-02\n",
       "C+        1.576100e-02\n",
       "Name: 0, dtype: float64"
      ]
     },
     "execution_count": 128,
     "metadata": {},
     "output_type": "execute_result"
    }
   ],
   "source": [
    "pdr_pops=pd.read_csv(pdr_path+\"fixed_heating.pop.out\",delimiter=\" \")\n",
    "pdr_pops=pdr_pops.iloc[0].transpose().rename(lambda x: x[2:].split(\",\")[0])\n",
    "pdr_pops.head()"
   ]
  },
  {
   "cell_type": "code",
   "execution_count": 129,
   "metadata": {},
   "outputs": [
    {
     "data": {
      "text/html": [
       "<div>\n",
       "<style scoped>\n",
       "    .dataframe tbody tr th:only-of-type {\n",
       "        vertical-align: middle;\n",
       "    }\n",
       "\n",
       "    .dataframe tbody tr th {\n",
       "        vertical-align: top;\n",
       "    }\n",
       "\n",
       "    .dataframe thead th {\n",
       "        text-align: right;\n",
       "    }\n",
       "</style>\n",
       "<table border=\"1\" class=\"dataframe\">\n",
       "  <thead>\n",
       "    <tr style=\"text-align: right;\">\n",
       "      <th></th>\n",
       "      <th>0</th>\n",
       "    </tr>\n",
       "  </thead>\n",
       "  <tbody>\n",
       "    <tr>\n",
       "      <th>DEL</th>\n",
       "      <td>1.000000e+00</td>\n",
       "    </tr>\n",
       "    <tr>\n",
       "      <th>H</th>\n",
       "      <td>9.997300e+02</td>\n",
       "    </tr>\n",
       "    <tr>\n",
       "      <th>H</th>\n",
       "      <td>3.626100e-67</td>\n",
       "    </tr>\n",
       "    <tr>\n",
       "      <th>C+</th>\n",
       "      <td>8.419800e-02</td>\n",
       "    </tr>\n",
       "    <tr>\n",
       "      <th>C+</th>\n",
       "      <td>1.576100e-02</td>\n",
       "    </tr>\n",
       "  </tbody>\n",
       "</table>\n",
       "</div>"
      ],
      "text/plain": [
       "                0\n",
       "DEL  1.000000e+00\n",
       "H    9.997300e+02\n",
       "H    3.626100e-67\n",
       "C+   8.419800e-02\n",
       "C+   1.576100e-02"
      ]
     },
     "execution_count": 129,
     "metadata": {},
     "output_type": "execute_result"
    }
   ],
   "source": [
    "chem_pops=pd.read_csv(chem_path+\"1.pop\",delimiter=\":\")\n",
    "chem_pops=chem_pops.transpose().rename(lambda x: x[2:].split(\",\")[0])\n",
    "chem_pops.head()"
   ]
  },
  {
   "cell_type": "code",
   "execution_count": 130,
   "metadata": {},
   "outputs": [
    {
     "data": {
      "text/html": [
       "<div>\n",
       "<style scoped>\n",
       "    .dataframe tbody tr th:only-of-type {\n",
       "        vertical-align: middle;\n",
       "    }\n",
       "\n",
       "    .dataframe tbody tr th {\n",
       "        vertical-align: top;\n",
       "    }\n",
       "\n",
       "    .dataframe thead th {\n",
       "        text-align: right;\n",
       "    }\n",
       "</style>\n",
       "<table border=\"1\" class=\"dataframe\">\n",
       "  <thead>\n",
       "    <tr style=\"text-align: right;\">\n",
       "      <th></th>\n",
       "      <th>Mol</th>\n",
       "      <th>0_x</th>\n",
       "      <th>0_y</th>\n",
       "    </tr>\n",
       "  </thead>\n",
       "  <tbody>\n",
       "    <tr>\n",
       "      <th>1</th>\n",
       "      <td>H</td>\n",
       "      <td>9.997330e+02</td>\n",
       "      <td>9.997300e+02</td>\n",
       "    </tr>\n",
       "    <tr>\n",
       "      <th>2</th>\n",
       "      <td>H</td>\n",
       "      <td>3.626960e-67</td>\n",
       "      <td>3.626100e-67</td>\n",
       "    </tr>\n",
       "    <tr>\n",
       "      <th>3</th>\n",
       "      <td>C+</td>\n",
       "      <td>8.419800e-02</td>\n",
       "      <td>7.702000e-02</td>\n",
       "    </tr>\n",
       "    <tr>\n",
       "      <th>4</th>\n",
       "      <td>C+</td>\n",
       "      <td>1.576100e-02</td>\n",
       "      <td>2.293900e-02</td>\n",
       "    </tr>\n",
       "    <tr>\n",
       "      <th>5</th>\n",
       "      <td>O</td>\n",
       "      <td>2.999020e-01</td>\n",
       "      <td>2.998200e-01</td>\n",
       "    </tr>\n",
       "  </tbody>\n",
       "</table>\n",
       "</div>"
      ],
      "text/plain": [
       "  Mol           0_x           0_y\n",
       "1   H  9.997330e+02  9.997300e+02\n",
       "2   H  3.626960e-67  3.626100e-67\n",
       "3  C+  8.419800e-02  7.702000e-02\n",
       "4  C+  1.576100e-02  2.293900e-02\n",
       "5   O  2.999020e-01  2.998200e-01"
      ]
     },
     "execution_count": 130,
     "metadata": {},
     "output_type": "execute_result"
    }
   ],
   "source": [
    "plot_df.head()"
   ]
  },
  {
   "cell_type": "code",
   "execution_count": 131,
   "metadata": {},
   "outputs": [
    {
     "data": {
      "text/plain": [
       "[None, (1e-35, 10.0), None, (1e-35, 10.0)]"
      ]
     },
     "execution_count": 131,
     "metadata": {},
     "output_type": "execute_result"
    },
    {
     "data": {
      "image/png": "[encoded data removed]",
      "text/plain": [
       "<Figure size 1152x648 with 1 Axes>"
      ]
     },
     "metadata": {
      "needs_background": "light"
     },
     "output_type": "display_data"
    }
   ],
   "source": [
    "fig,ax=plt.subplots(figsize=(16,9))\n",
    "\n",
    "plot_df=pdr_pops.reset_index().merge(chem_pops.reset_index(drop=True),left_index=True,right_index=True)\n",
    "plot_df=plot_df.rename({\"index\":\"Mol\"},axis=1).drop(0).dropna()\n",
    "sns.scatterplot(data=plot_df,x=\"0_x\",y=\"0_y\",hue=\"Mol\",ax=ax)\n",
    "#ax.plot(pdr_pops.values[1:],chem_pops.values[1:],ls=\"\",marker=\"o\")\n",
    "ax.plot(plot_df[\"0_x\"],plot_df[\"0_x\"])\n",
    "ax.set(xscale=\"log\",yscale=\"log\",ylim=(1e-35,1e1),xlim=(1e-35,1e1))"
   ]
  },
  {
   "cell_type": "code",
   "execution_count": 132,
   "metadata": {},
   "outputs": [
    {
     "data": {
      "text/plain": [
       "<matplotlib.lines.Line2D at 0x7fa1dc708048>"
      ]
     },
     "execution_count": 132,
     "metadata": {},
     "output_type": "execute_result"
    },
    {
     "data": {
      "image/png": "[encoded data removed]",
      "text/plain": [
       "<Figure size 1152x648 with 1 Axes>"
      ]
     },
     "metadata": {
      "needs_background": "light"
     },
     "output_type": "display_data"
    }
   ],
   "source": [
    "fig,ax=plt.subplots(figsize=(16,9))\n",
    "yvals=plot_df[\"0_y\"].div(plot_df[\"0_x\"])\n",
    "yvals=np.where(yvals>10,10,yvals)\n",
    "sns.scatterplot(x=plot_df[\"0_x\"],y=yvals,hue=plot_df[\"Mol\"],ax=ax)\n",
    "ax.set(xlim=(1e-35,.5e0),xscale='log')\n",
    "ax.axhline(1.0)"
   ]
  },
  {
   "cell_type": "code",
   "execution_count": null,
   "metadata": {},
   "outputs": [],
   "source": []
  }
 ],
 "metadata": {
  "kernelspec": {
   "display_name": "Python 3",
   "language": "python",
   "name": "python3"
  },
  "language_info": {
   "codemirror_mode": {
    "name": "ipython",
    "version": 3
   },
   "file_extension": ".py",
   "mimetype": "text/x-python",
   "name": "python",
   "nbconvert_exporter": "python",
   "pygments_lexer": "ipython3",
   "version": "3.6.9"
  }
 },
 "nbformat": 4,
 "nbformat_minor": 2
}
