{
 "cells": [
  {
   "cell_type": "code",
   "execution_count": 1,
   "metadata": {},
   "outputs": [],
   "source": [
    "import pandas as pd\n",
    "import numpy as np\n",
    "import matplotlib.pyplot as plt"
   ]
  },
  {
   "cell_type": "code",
   "execution_count": 2,
   "metadata": {},
   "outputs": [],
   "source": [
    "abund_df=pd.read_csv(\"test.abun.out\",delimiter=\" \")[[\"Particle\",\"X(H2)\"]]\n",
    "particle_df=pd.read_csv(\"test.prop.out\",delimiter=\" \")[[\"Particle\",\"n_H\"]]\n",
    "df=pd.read_csv(\"/home/jon/Documents/zupcx4/UCL_CHEMS/uclpdr/Input/cloud-square.dat\",delimiter=\",\")\n",
    "df=df[['Particle # ','      x (cm)      ']]\n",
    "df=df.rename({'Particle # ':\"Particle\",'      x (cm)      ':'x'},axis=1)"
   ]
  },
  {
   "cell_type": "code",
   "execution_count": 3,
   "metadata": {},
   "outputs": [],
   "source": [
    "particle_df=particle_df.merge(abund_df,on=\"Particle\")"
   ]
  },
  {
   "cell_type": "code",
   "execution_count": 4,
   "metadata": {},
   "outputs": [],
   "source": [
    "particle_df=particle_df.merge(df,on=\"Particle\")"
   ]
  },
  {
   "cell_type": "code",
   "execution_count": 5,
   "metadata": {},
   "outputs": [
    {
     "data": {
      "text/html": [
       "<div>\n",
       "<style scoped>\n",
       "    .dataframe tbody tr th:only-of-type {\n",
       "        vertical-align: middle;\n",
       "    }\n",
       "\n",
       "    .dataframe tbody tr th {\n",
       "        vertical-align: top;\n",
       "    }\n",
       "\n",
       "    .dataframe thead th {\n",
       "        text-align: right;\n",
       "    }\n",
       "</style>\n",
       "<table border=\"1\" class=\"dataframe\">\n",
       "  <thead>\n",
       "    <tr style=\"text-align: right;\">\n",
       "      <th></th>\n",
       "      <th>Particle</th>\n",
       "      <th>n_H</th>\n",
       "      <th>X(H2)</th>\n",
       "      <th>x</th>\n",
       "    </tr>\n",
       "  </thead>\n",
       "  <tbody>\n",
       "    <tr>\n",
       "      <th>0</th>\n",
       "      <td>1</td>\n",
       "      <td>10000.0</td>\n",
       "      <td>0.000017</td>\n",
       "      <td>-3.180156e+19</td>\n",
       "    </tr>\n",
       "    <tr>\n",
       "      <th>1</th>\n",
       "      <td>2</td>\n",
       "      <td>10000.0</td>\n",
       "      <td>0.000017</td>\n",
       "      <td>-3.180156e+19</td>\n",
       "    </tr>\n",
       "    <tr>\n",
       "      <th>2</th>\n",
       "      <td>3</td>\n",
       "      <td>10000.0</td>\n",
       "      <td>0.000017</td>\n",
       "      <td>-3.180156e+19</td>\n",
       "    </tr>\n",
       "    <tr>\n",
       "      <th>3</th>\n",
       "      <td>4</td>\n",
       "      <td>10000.0</td>\n",
       "      <td>0.000017</td>\n",
       "      <td>-3.180156e+19</td>\n",
       "    </tr>\n",
       "    <tr>\n",
       "      <th>4</th>\n",
       "      <td>5</td>\n",
       "      <td>10000.0</td>\n",
       "      <td>0.000017</td>\n",
       "      <td>-3.180156e+19</td>\n",
       "    </tr>\n",
       "  </tbody>\n",
       "</table>\n",
       "</div>"
      ],
      "text/plain": [
       "   Particle      n_H     X(H2)             x\n",
       "0         1  10000.0  0.000017 -3.180156e+19\n",
       "1         2  10000.0  0.000017 -3.180156e+19\n",
       "2         3  10000.0  0.000017 -3.180156e+19\n",
       "3         4  10000.0  0.000017 -3.180156e+19\n",
       "4         5  10000.0  0.000017 -3.180156e+19"
      ]
     },
     "execution_count": 5,
     "metadata": {},
     "output_type": "execute_result"
    }
   ],
   "source": [
    "particle_df.head()"
   ]
  },
  {
   "cell_type": "code",
   "execution_count": 6,
   "metadata": {},
   "outputs": [],
   "source": [
    "particle_df[\"delta_x\"]=0.0\n",
    "particle_df.loc[1:,\"delta_x\"]=particle_df.iloc[1:][\"x\"].values-particle_df.iloc[0:-1][\"x\"].values"
   ]
  },
  {
   "cell_type": "code",
   "execution_count": 7,
   "metadata": {},
   "outputs": [],
   "source": [
    "particle_df[\"delta_h_col\"]=particle_df[\"delta_x\"].values*particle_df[\"X(H2)\"].values*particle_df[\"n_H\"].values\n",
    "particle_df[\"delta_col_dens\"]=particle_df[\"delta_x\"].values*particle_df[\"n_H\"].values"
   ]
  },
  {
   "cell_type": "code",
   "execution_count": 8,
   "metadata": {},
   "outputs": [],
   "source": [
    "particle_df[\"total_h_col\"]=particle_df[\"delta_h_col\"].cumsum()\n",
    "particle_df[\"total_col_dens\"]=particle_df[\"delta_col_dens\"].cumsum()"
   ]
  },
  {
   "cell_type": "code",
   "execution_count": 9,
   "metadata": {},
   "outputs": [],
   "source": [
    "particle_df[\"size\"]=particle_df.delta_x.cumsum()"
   ]
  },
  {
   "cell_type": "code",
   "execution_count": 10,
   "metadata": {},
   "outputs": [
    {
     "data": {
      "text/plain": [
       "<matplotlib.axes._subplots.AxesSubplot at 0x7efbd500efd0>"
      ]
     },
     "execution_count": 10,
     "metadata": {},
     "output_type": "execute_result"
    },
    {
     "data": {
      "image/png": "[encoded data removed]",
      "text/plain": [
       "<Figure size 1152x360 with 2 Axes>"
      ]
     },
     "metadata": {
      "needs_background": "light"
     },
     "output_type": "display_data"
    }
   ],
   "source": [
    "fig,[ax1,ax2]=plt.subplots(1,2,figsize=(16,5))\n",
    "particle_df.plot(x=\"x\",y=\"total_h_col\",ax=ax1)\n",
    "particle_df.plot(x=\"size\",y=\"total_h_col\",ax=ax2)"
   ]
  },
  {
   "cell_type": "code",
   "execution_count": 11,
   "metadata": {},
   "outputs": [
    {
     "data": {
      "text/plain": [
       "<matplotlib.axes._subplots.AxesSubplot at 0x7efbd4d90e80>"
      ]
     },
     "execution_count": 11,
     "metadata": {},
     "output_type": "execute_result"
    },
    {
     "data": {
      "image/png": "[encoded data removed]",
      "text/plain": [
       "<Figure size 1152x360 with 2 Axes>"
      ]
     },
     "metadata": {
      "needs_background": "light"
     },
     "output_type": "display_data"
    }
   ],
   "source": [
    "fig,[ax1,ax2]=plt.subplots(1,2,figsize=(16,5))\n",
    "particle_df.plot(x=\"x\",y=\"total_col_dens\",ax=ax1)\n",
    "particle_df.plot(x=\"size\",y=\"total_col_dens\",ax=ax2)"
   ]
  },
  {
   "cell_type": "code",
   "execution_count": 13,
   "metadata": {},
   "outputs": [],
   "source": [
    "step=int(np.floor(len(particle_df)/48))#only want 48 models\n",
    "particle_df=particle_df.iloc[0:step*48:step] #only want 48 models\n",
    "particle_df.to_csv(\"model_tests.dat\",index=False)"
   ]
  },
  {
   "cell_type": "code",
   "execution_count": 16,
   "metadata": {},
   "outputs": [
    {
     "data": {
      "text/plain": [
       "30      2.009073e-07\n",
       "60      3.564485e-07\n",
       "90      5.119896e-07\n",
       "120     2.009073e-06\n",
       "150     3.558004e-06\n",
       "180     5.103694e-06\n",
       "210     2.009721e-05\n",
       "240     3.555412e-05\n",
       "270     5.101102e-05\n",
       "300     2.009494e-04\n",
       "330     3.555282e-04\n",
       "360     5.101037e-04\n",
       "390     2.009498e-03\n",
       "420     3.555262e-03\n",
       "450     5.101027e-03\n",
       "480     2.009496e-02\n",
       "510     3.555262e-02\n",
       "540     5.101028e-02\n",
       "570     2.009496e-01\n",
       "600     3.555262e-01\n",
       "630     5.101028e-01\n",
       "660     2.009496e+00\n",
       "690     3.555262e+00\n",
       "720     5.101028e+00\n",
       "750     1.592139e+01\n",
       "780     1.746716e+01\n",
       "810     1.901292e+01\n",
       "840     2.014133e+01\n",
       "870     2.029591e+01\n",
       "900     2.045048e+01\n",
       "930     2.056332e+01\n",
       "960     2.057878e+01\n",
       "990     2.059424e+01\n",
       "1020    2.060552e+01\n",
       "1050    2.060707e+01\n",
       "1080    2.060862e+01\n",
       "1110    2.060974e+01\n",
       "1140    2.060990e+01\n",
       "1170    2.061005e+01\n",
       "1200    2.061017e+01\n",
       "1230    2.061018e+01\n",
       "1260    2.061020e+01\n",
       "1290    2.061021e+01\n",
       "1320    2.061021e+01\n",
       "1350    2.061021e+01\n",
       "1380    2.061021e+01\n",
       "1410    2.061021e+01\n",
       "Name: size, dtype: float64"
      ]
     },
     "execution_count": 16,
     "metadata": {},
     "output_type": "execute_result"
    }
   ],
   "source": [
    "particle_df[\"size\"]/3.086e18"
   ]
  },
  {
   "cell_type": "code",
   "execution_count": null,
   "metadata": {},
   "outputs": [],
   "source": []
  }
 ],
 "metadata": {
  "kernelspec": {
   "display_name": "Python 3",
   "language": "python",
   "name": "python3"
  },
  "language_info": {
   "codemirror_mode": {
    "name": "ipython",
    "version": 3
   },
   "file_extension": ".py",
   "mimetype": "text/x-python",
   "name": "python",
   "nbconvert_exporter": "python",
   "pygments_lexer": "ipython3",
   "version": "3.6.9"
  }
 },
 "nbformat": 4,
 "nbformat_minor": 2
}
